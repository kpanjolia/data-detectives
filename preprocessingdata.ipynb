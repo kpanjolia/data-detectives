{
 "cells": [
  {
   "cell_type": "markdown",
   "metadata": {},
   "source": [
    "# Preprocessing Data"
   ]
  },
  {
   "cell_type": "code",
   "execution_count": 1,
   "metadata": {},
   "outputs": [],
   "source": [
    "#imports\n",
    "import pandas as pd\n",
    "import numpy as np\n",
    "import matplotlib.pyplot as plt"
   ]
  },
  {
   "cell_type": "code",
   "execution_count": 4,
   "metadata": {},
   "outputs": [],
   "source": [
    "#load data\n",
    "account_df = pd.read_csv('data/account_dim_20250325.csv')\n",
    "fraud_claim_case_df = pd.read_csv('data/fraud_claim_case_20250325.csv')\n",
    "fraud_claim_tran_df = pd.read_csv('data/fraud_claim_tran_20250325.csv')\n",
    "rams_batch_df = pd.read_csv('data/rams_batch_cur_20250325.csv')\n",
    "statement_fact_df = pd.read_csv('data/statement_fact_20250325.csv')\n",
    "syf_id_df = pd.read_csv('data/syf_id_20250325.csv')\n",
    "transaction_fact_df = pd.read_csv('data/transaction_fact_20250325.csv')\n",
    "wrld_stor_tran_fact_df = pd.read_csv('data/wrld_stor_tran_fact_20250325.csv')"
   ]
  },
  {
   "cell_type": "code",
   "execution_count": null,
   "metadata": {},
   "outputs": [],
   "source": []
  }
 ],
 "metadata": {
  "kernelspec": {
   "display_name": "base",
   "language": "python",
   "name": "python3"
  },
  "language_info": {
   "codemirror_mode": {
    "name": "ipython",
    "version": 3
   },
   "file_extension": ".py",
   "mimetype": "text/x-python",
   "name": "python",
   "nbconvert_exporter": "python",
   "pygments_lexer": "ipython3",
   "version": "3.11.5"
  }
 },
 "nbformat": 4,
 "nbformat_minor": 2
}
